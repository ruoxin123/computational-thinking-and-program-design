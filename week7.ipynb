{
  "nbformat": 4,
  "nbformat_minor": 0,
  "metadata": {
    "colab": {
      "name": "week7.ipynb",
      "provenance": [],
      "collapsed_sections": [],
      "authorship_tag": "ABX9TyNKQsYVgSpUfILad0AVHjNp",
      "include_colab_link": true
    },
    "kernelspec": {
      "name": "python3",
      "display_name": "Python 3"
    }
  },
  "cells": [
    {
      "cell_type": "markdown",
      "metadata": {
        "id": "view-in-github",
        "colab_type": "text"
      },
      "source": [
        "<a href=\"https://colab.research.google.com/github/ruoxin123/computational-thinking-and-program-design/blob/master/week7.ipynb\" target=\"_parent\"><img src=\"https://colab.research.google.com/assets/colab-badge.svg\" alt=\"Open In Colab\"/></a>"
      ]
    },
    {
      "cell_type": "code",
      "metadata": {
        "id": "oPOz_Do3RMVc",
        "colab_type": "code",
        "colab": {
          "base_uri": "https://localhost:8080/",
          "height": 153
        },
        "outputId": "cdb745c8-dd71-4d6a-bfc2-552224c7781f"
      },
      "source": [
        "tv_show='梨泰院class'#電視名稱\n",
        "realease_year='2020'#上映時間\n",
        "director='金城允'#導演\n",
        "language='韓文'#語言\n",
        "episode='16集'#集數\n",
        "main_actor='朴敘俊'#男主角\n",
        "main_actress='金多美'#女主角\n",
        "ratings='11.832%'#收視率\n",
        "print(tv_show)\n",
        "print(realease_year)\n",
        "print(director)\n",
        "print(language)\n",
        "print(episode)\n",
        "print(main_actor)\n",
        "print(main_actress)\n",
        "print(ratings)"
      ],
      "execution_count": 1,
      "outputs": [
        {
          "output_type": "stream",
          "text": [
            "梨泰院class\n",
            "2020\n",
            "金城允\n",
            "韓文\n",
            "16集\n",
            "朴敘俊\n",
            "金多美\n",
            "11.832%\n"
          ],
          "name": "stdout"
        }
      ]
    },
    {
      "cell_type": "code",
      "metadata": {
        "id": "qLCkJ0SKTPbh",
        "colab_type": "code",
        "colab": {}
      },
      "source": [
        ""
      ],
      "execution_count": 0,
      "outputs": []
    }
  ]
}