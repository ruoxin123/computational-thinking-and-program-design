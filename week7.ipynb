{
  "nbformat": 4,
  "nbformat_minor": 0,
  "metadata": {
    "colab": {
      "name": "week7.ipynb",
      "provenance": [],
      "collapsed_sections": [],
      "authorship_tag": "ABX9TyMMqKtnwPdIxXXCY+PiwW6q",
      "include_colab_link": true
    },
    "kernelspec": {
      "name": "python3",
      "display_name": "Python 3"
    }
  },
  "cells": [
    {
      "cell_type": "markdown",
      "metadata": {
        "id": "view-in-github",
        "colab_type": "text"
      },
      "source": [
        "<a href=\"https://colab.research.google.com/github/ruoxin123/computational-thinking-and-program-design/blob/master/week7.ipynb\" target=\"_parent\"><img src=\"https://colab.research.google.com/assets/colab-badge.svg\" alt=\"Open In Colab\"/></a>"
      ]
    },
    {
      "cell_type": "code",
      "metadata": {
        "id": "ASh0CFNNXwCb",
        "colab_type": "code",
        "colab": {}
      },
      "source": [
        "#從維基百科找出要記錄的韓劇梨泰院相關資訊"
      ],
      "execution_count": 0,
      "outputs": []
    },
    {
      "cell_type": "code",
      "metadata": {
        "id": "kPzKGKv6XyWc",
        "colab_type": "code",
        "colab": {}
      },
      "source": [
        "##https://zh.wikipedia.org/wiki/梨泰院Class"
      ],
      "execution_count": 0,
      "outputs": []
    },
    {
      "cell_type": "code",
      "metadata": {
        "id": "InUb1fLtXwnq",
        "colab_type": "code",
        "colab": {}
      },
      "source": [
        "##相關資訊：韓劇名稱、導演、演員等"
      ],
      "execution_count": 0,
      "outputs": []
    },
    {
      "cell_type": "code",
      "metadata": {
        "id": "oPOz_Do3RMVc",
        "colab_type": "code",
        "colab": {}
      },
      "source": [
        "tv_show='梨泰院class'#電視名稱"
      ],
      "execution_count": 0,
      "outputs": []
    },
    {
      "cell_type": "code",
      "metadata": {
        "id": "1KcKGbtAW0Bv",
        "colab_type": "code",
        "colab": {}
      },
      "source": [
        "director='金城允'#導演"
      ],
      "execution_count": 0,
      "outputs": []
    },
    {
      "cell_type": "code",
      "metadata": {
        "id": "SYpwssZSW8rO",
        "colab_type": "code",
        "colab": {}
      },
      "source": [
        "language='韓文'#語言"
      ],
      "execution_count": 0,
      "outputs": []
    },
    {
      "cell_type": "code",
      "metadata": {
        "id": "gCpi3An1W8vv",
        "colab_type": "code",
        "colab": {}
      },
      "source": [
        "episode='16集'#集數"
      ],
      "execution_count": 0,
      "outputs": []
    },
    {
      "cell_type": "code",
      "metadata": {
        "id": "kL1J3KCqW867",
        "colab_type": "code",
        "colab": {}
      },
      "source": [
        "main_actor='朴敘俊'#男主角"
      ],
      "execution_count": 0,
      "outputs": []
    },
    {
      "cell_type": "code",
      "metadata": {
        "id": "7wSJ6OtQW8-l",
        "colab_type": "code",
        "colab": {}
      },
      "source": [
        "main_actress='金多美'#女主角"
      ],
      "execution_count": 0,
      "outputs": []
    },
    {
      "cell_type": "code",
      "metadata": {
        "id": "wa5qI2gJW9CG",
        "colab_type": "code",
        "colab": {}
      },
      "source": [
        "ratings='11.832%'#收視率"
      ],
      "execution_count": 0,
      "outputs": []
    },
    {
      "cell_type": "code",
      "metadata": {
        "id": "FF1RROANW9GN",
        "colab_type": "code",
        "colab": {}
      },
      "source": [
        "print(tv_show)"
      ],
      "execution_count": 0,
      "outputs": []
    },
    {
      "cell_type": "code",
      "metadata": {
        "id": "3IK8xUNKXhMs",
        "colab_type": "code",
        "colab": {}
      },
      "source": [
        "print(realease_year)"
      ],
      "execution_count": 0,
      "outputs": []
    },
    {
      "cell_type": "code",
      "metadata": {
        "id": "7h29HoTdXhQx",
        "colab_type": "code",
        "colab": {}
      },
      "source": [
        "print(director)"
      ],
      "execution_count": 0,
      "outputs": []
    },
    {
      "cell_type": "code",
      "metadata": {
        "id": "TP8bivNiXhUw",
        "colab_type": "code",
        "colab": {}
      },
      "source": [
        "print(language)"
      ],
      "execution_count": 0,
      "outputs": []
    },
    {
      "cell_type": "code",
      "metadata": {
        "id": "uTknIbjVXhZX",
        "colab_type": "code",
        "colab": {}
      },
      "source": [
        "print(episode)"
      ],
      "execution_count": 0,
      "outputs": []
    },
    {
      "cell_type": "code",
      "metadata": {
        "id": "Up1HdDYWXhjB",
        "colab_type": "code",
        "colab": {}
      },
      "source": [
        "print(main_actor)"
      ],
      "execution_count": 0,
      "outputs": []
    },
    {
      "cell_type": "code",
      "metadata": {
        "id": "SnTAL905XhgI",
        "colab_type": "code",
        "colab": {}
      },
      "source": [
        "print(main_actress)"
      ],
      "execution_count": 0,
      "outputs": []
    },
    {
      "cell_type": "code",
      "metadata": {
        "id": "AUmyEhKkXhfJ",
        "colab_type": "code",
        "colab": {}
      },
      "source": [
        "print(ratings)"
      ],
      "execution_count": 0,
      "outputs": []
    }
  ]
}