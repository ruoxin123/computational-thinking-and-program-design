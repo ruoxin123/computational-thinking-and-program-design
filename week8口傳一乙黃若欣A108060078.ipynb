{
  "nbformat": 4,
  "nbformat_minor": 0,
  "metadata": {
    "colab": {
      "name": "week8口傳一以黃若欣A108060078.ipynb",
      "provenance": [],
      "authorship_tag": "ABX9TyOm5+svCKQCHk3ec0aI6TbP",
      "include_colab_link": true
    },
    "kernelspec": {
      "name": "python3",
      "display_name": "Python 3"
    }
  },
  "cells": [
    {
      "cell_type": "markdown",
      "metadata": {
        "id": "view-in-github",
        "colab_type": "text"
      },
      "source": [
        "<a href=\"https://colab.research.google.com/github/ruoxin123/computational-thinking-and-program-design/blob/master/week8%E5%8F%A3%E5%82%B3%E4%B8%80%E4%B9%99%E9%BB%83%E8%8B%A5%E6%AC%A3A108060078.ipynb\" target=\"_parent\"><img src=\"https://colab.research.google.com/assets/colab-badge.svg\" alt=\"Open In Colab\"/></a>"
      ]
    },
    {
      "cell_type": "code",
      "metadata": {
        "id": "O2Bgai8T-8se",
        "colab_type": "code",
        "colab": {
          "base_uri": "https://localhost:8080/",
          "height": 119
        },
        "outputId": "8b8e259d-884e-4647-a4c6-9e6e14e3a428"
      },
      "source": [
        "hours=input('movie times hours:')\n",
        "minutes=input('movie times minutes:')\n",
        "\n",
        "hours=int(hours)\n",
        "minutes=int(minutes)\n",
        "\n",
        "length=hours*60+minutes\n",
        "print(hours,'hours',minutes,'minutes','movie length is',length,'minutes')\n",
        "\n",
        "hours1=length//60\n",
        "print(hours1)\n",
        "\n",
        "minutes1=length%60\n",
        "print(minutes1)\n",
        "\n",
        "print(length,'minutes equals',hours1,'hours',minutes1,'minutes')"
      ],
      "execution_count": 4,
      "outputs": [
        {
          "output_type": "stream",
          "text": [
            "movie times hours:2\n",
            "movie times minutes:13\n",
            "2 hours 13 minutes movie length is 133 minutes\n",
            "2\n",
            "13\n",
            "133 minutes equals 2 hours 13 minutes\n"
          ],
          "name": "stdout"
        }
      ]
    }
  ]
}