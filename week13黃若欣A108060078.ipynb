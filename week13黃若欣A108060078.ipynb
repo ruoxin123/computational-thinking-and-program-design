{
  "nbformat": 4,
  "nbformat_minor": 0,
  "metadata": {
    "colab": {
      "name": "Welcome To Colaboratory",
      "provenance": [],
      "collapsed_sections": [],
      "toc_visible": true,
      "include_colab_link": true
    },
    "kernelspec": {
      "display_name": "Python 3",
      "name": "python3"
    }
  },
  "cells": [
    {
      "cell_type": "markdown",
      "metadata": {
        "id": "view-in-github",
        "colab_type": "text"
      },
      "source": [
        "<a href=\"https://colab.research.google.com/github/ruoxin123/computational-thinking-and-program-design/blob/master/week13%E9%BB%83%E8%8B%A5%E6%AC%A3A108060078.ipynb\" target=\"_parent\"><img src=\"https://colab.research.google.com/assets/colab-badge.svg\" alt=\"Open In Colab\"/></a>"
      ]
    },
    {
      "cell_type": "code",
      "metadata": {
        "id": "qP0L_ENVVXYF",
        "colab_type": "code",
        "colab": {
          "base_uri": "https://localhost:8080/",
          "height": 51
        },
        "outputId": "70d33b8a-7539-47a4-be53-c598871ebc5a"
      },
      "source": [
        "score = int(input(\"請輸入成績\"))\n",
        "if score >= 80:\n",
        "        print(\"非常好\")\n",
        "if 80 > score >= 60:\n",
        "        print(\"不錯喔\")\n",
        "if score < 60:\n",
        "        print(\"要加油\")"
      ],
      "execution_count": 4,
      "outputs": [
        {
          "output_type": "stream",
          "text": [
            "請輸入成績88\n",
            "非常好\n"
          ],
          "name": "stdout"
        }
      ]
    },
    {
      "cell_type": "code",
      "metadata": {
        "id": "cPl553VLVozt",
        "colab_type": "code",
        "colab": {
          "base_uri": "https://localhost:8080/",
          "height": 51
        },
        "outputId": "e1245ce7-47c3-48dc-86a8-79abcd427f9d"
      },
      "source": [
        "score = int(input(\"請輸入成績\"))\n",
        "if score >= 80:\n",
        "        print(\"非常好\")\n",
        "if 80 > score >= 60:\n",
        "        print(\"不錯喔\")\n",
        "if score < 60:\n",
        "        print(\"要加油\")"
      ],
      "execution_count": 5,
      "outputs": [
        {
          "output_type": "stream",
          "text": [
            "請輸入成績63\n",
            "不錯喔\n"
          ],
          "name": "stdout"
        }
      ]
    },
    {
      "cell_type": "code",
      "metadata": {
        "id": "BdGM5INzVXtO",
        "colab_type": "code",
        "colab": {
          "base_uri": "https://localhost:8080/",
          "height": 51
        },
        "outputId": "b664e6fb-046f-457d-c68d-a885c15f7802"
      },
      "source": [
        "score = int(input(\"請輸入成績\"))\n",
        "if score >= 80:\n",
        "        print(\"非常好\")\n",
        "if 80 > score >= 60:\n",
        "        print(\"不錯喔\")\n",
        "if score < 60:\n",
        "        print(\"要加油\")"
      ],
      "execution_count": 6,
      "outputs": [
        {
          "output_type": "stream",
          "text": [
            "請輸入成績10\n",
            "要加油\n"
          ],
          "name": "stdout"
        }
      ]
    }
  ]
}